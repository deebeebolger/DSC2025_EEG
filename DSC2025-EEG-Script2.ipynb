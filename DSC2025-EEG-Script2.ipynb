{
 "cells": [
  {
   "cell_type": "markdown",
   "id": "37cd555a",
   "metadata": {},
   "source": [
    "## Script 2: Detection, manipulation and removal of noisy electrodes\n",
    "\n",
    "The detection of noisy data and, in particular, noisy electrodes is an important step when preparing EEG for analysis.\n",
    "We can detect noisy electrodes by considering the following:\n",
    "- the amplitude of activity in the time-dependent signal\n",
    "- the region of the brain over which certain activity is concentrated. For example, we know that eye-blinks are characterised\n",
    "by positive-going activity over frontal electrodes of the right and left hemispheres.\n",
    "- by considering the frequency content of the electrode signals. High energy in the low frequency part of a spectrum indicates\n",
    "activity that is slow, often of high amplitude; activity very often related to movements.\n",
    "\n",
    "Below we will plot the power spectral density (PSD) of all electrodes for frequencies from 0.5Hz to 40Hz.\n",
    "The PSD will be plotted in decibels (dB)\n",
    "\n",
    "This script uses the .fif file saved in script1 after the high-pass filtering and re-referencing was carried out.\n",
    "The **.fif** format is MNE-Python's own data format.\n",
    "\n",
    "<div class = \"alert alert-block alert-info\">\n",
    "<b>Note:</b> If you are working in Binder, you will need to upload the following file into the data folder:\n",
    "- sub-001_eeg_sub-001_task-think1_eeg_short_raw.fif\n",
    "It might take a few minutes to upload them so be patient.\n",
    "</div>"
   ]
  },
  {
   "cell_type": "code",
   "execution_count": null,
   "id": "2701bfc9",
   "metadata": {},
   "outputs": [],
   "source": [
    "%matplotlib widget\n",
    "import mne\n",
    "import os\n",
    "import matplotlib.pyplot as plt\n",
    "import numpy as np\n",
    "\n",
    "# We begin by loading in .fif file that we saved at the end of script 1.\n",
    "fnameIn = 'sub-001_eeg_sub-001_task-think1_eeg_short_raw.fif'\n",
    "fpathIn = 'Data'\n",
    "fullnameIn = os.path.join(fpathIn, fnameIn)\n",
    "rawIn = mne.io.read_raw_fif(fullnameIn, preload=True)"
   ]
  },
  {
   "cell_type": "code",
   "execution_count": null,
   "id": "06328834",
   "metadata": {},
   "outputs": [],
   "source": [
    "# Plot the power spectral density (PSD)\n",
    "\n",
    "mne.viz.plot_raw_psd(rawIn, fmin=0.5, fmax=80, tmin=25, tmax=50, picks='eeg', dB=True)"
   ]
  },
  {
   "cell_type": "markdown",
   "id": "61bf4312-4c48-4798-b6d5-f0ffab5b89d1",
   "metadata": {},
   "source": [
    "### Computing the Power Spectral Density (PSD)\n",
    "\n",
    "In the previous step, we applied the mne method, *plot_raw_psd()* to visualize the frequency content of our EEG dataset.\n",
    "Here we will calculate the PSD (using a *multitaper* method) using the *comput_psd()* function. This function outputs the PSD values (in dB - a log scale) and the frequencies.\n",
    "Then we plot the frequencies against the PSD values. \n",
    "\n",
    "Here we plot frequencies between 0.5Hz and 80Hz. \n",
    "We are plotting the spectrum for the scalp channel (*picks = 'eeg').\n",
    "\n",
    "<div class=\"alert alert-block alert-success\">\n",
    "<b>Question:</b> At what frequencies do we observe peaks? \n",
    "Do you know what these peak frequencies might correspond to? </div>\n"
   ]
  },
  {
   "cell_type": "code",
   "execution_count": null,
   "id": "37784011",
   "metadata": {},
   "outputs": [],
   "source": [
    "\n",
    "rawSpectre = rawIn.compute_psd(method='multitaper', fmin=0.5, fmax=80, tmin=None, tmax=None, picks='eeg')\n",
    "PSD, freqs = rawSpectre.get_data(exclude=(), return_freqs=True)\n",
    "print(f'The PSD will be plotted for these {freqs}')\n",
    "\n",
    "# We can then plot the spectra by applying .plot() method\n",
    "rawSpectre.plot()"
   ]
  },
  {
   "cell_type": "code",
   "execution_count": null,
   "id": "7c6b5d8d",
   "metadata": {},
   "outputs": [],
   "source": [
    "# We could also plot the spectrum of a subset of electrodes.\n",
    "\n",
    "chanSelect = ['Fpz', 'Fz', 'FCz', 'Cz', 'CPz', 'Pz']\n",
    "rawSpectre.plot(picks=chanSelect)"
   ]
  },
  {
   "cell_type": "markdown",
   "id": "eac95852",
   "metadata": {},
   "source": [
    "## Visualizing the spatial distribution of frequency band activity\n",
    "\n",
    "We can also plot the topography of the activity in the different frequency bands.\n",
    "We can plot the topographies because we added the correct montage to the dataset in script1. \n",
    "\n",
    "For EEG analyses we consider the following frequency bands:\n",
    "- theta (4-7Hz)\n",
    "- alpha (8-12Hz)\n",
    "- beta (12-30Hz)\n",
    "- gamma (>30Hz)"
   ]
  },
  {
   "cell_type": "code",
   "execution_count": null,
   "id": "3e2833e9",
   "metadata": {},
   "outputs": [],
   "source": [
    "# We begin by defining the frequency bands.\n",
    "\n",
    "fbands = {'Theta (4-7Hz)': (4,7), 'Alpha (8-12 Hz)': (8, 12), 'Beta (12-30 Hz)': (12, 30),\n",
    "         'Gamma (30-45 Hz)': (30, 45)}\n",
    "rawSpectre.plot_topomap(bands=fbands, ch_type='eeg')"
   ]
  },
  {
   "cell_type": "markdown",
   "id": "ec9951f5",
   "metadata": {},
   "source": [
    "## Detecting and marking noisy electrodes\n",
    "\n",
    "On the basis of the spectrum plotted, are we able to determine any noisy electrodes? \n",
    "\n",
    "In MNE-Python, when we want to mark an electrode as **noisy** or **bad** we can add it to the **bads** attribute\n",
    "of the *.info* object.\n",
    "The following gives an example of this; here we presume that Fpz and Oz are noisy electrodes."
   ]
  },
  {
   "cell_type": "code",
   "execution_count": null,
   "id": "4b257a75",
   "metadata": {},
   "outputs": [],
   "source": [
    "badChannels = ['PO4']\n",
    "rawIn.info['bads'] = badChannels"
   ]
  },
  {
   "cell_type": "code",
   "execution_count": null,
   "id": "481aabe4-0527-449e-949b-c00e1ed829c5",
   "metadata": {},
   "outputs": [],
   "source": []
  }
 ],
 "metadata": {
  "kernelspec": {
   "display_name": "Python 3 (ipykernel)",
   "language": "python",
   "name": "python3"
  },
  "language_info": {
   "codemirror_mode": {
    "name": "ipython",
    "version": 3
   },
   "file_extension": ".py",
   "mimetype": "text/x-python",
   "name": "python",
   "nbconvert_exporter": "python",
   "pygments_lexer": "ipython3",
   "version": "3.12.0"
  }
 },
 "nbformat": 4,
 "nbformat_minor": 5
}
